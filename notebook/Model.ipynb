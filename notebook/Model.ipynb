{
 "cells": [
  {
   "cell_type": "code",
   "execution_count": 7,
   "metadata": {},
   "outputs": [],
   "source": [
    "import os \n",
    "from pathlib import Path"
   ]
  },
  {
   "cell_type": "code",
   "execution_count": 8,
   "metadata": {},
   "outputs": [
    {
     "data": {
      "text/plain": [
       "'c:\\\\Users\\\\Asus\\\\vs_code\\\\Internship\\\\News_web_scraping\\\\notebook'"
      ]
     },
     "execution_count": 8,
     "metadata": {},
     "output_type": "execute_result"
    }
   ],
   "source": [
    "%pwd"
   ]
  },
  {
   "cell_type": "code",
   "execution_count": 9,
   "metadata": {},
   "outputs": [],
   "source": [
    "os.chdir(\"../\")"
   ]
  },
  {
   "cell_type": "code",
   "execution_count": 10,
   "metadata": {},
   "outputs": [
    {
     "data": {
      "text/plain": [
       "'c:\\\\Users\\\\Asus\\\\vs_code\\\\Internship\\\\News_web_scraping'"
      ]
     },
     "execution_count": 10,
     "metadata": {},
     "output_type": "execute_result"
    }
   ],
   "source": [
    "%pwd"
   ]
  },
  {
   "cell_type": "code",
   "execution_count": 6,
   "metadata": {},
   "outputs": [],
   "source": [
    "from pathlib import Path\n",
    "from typing import Optional\n",
    "from dataclasses import dataclass\n",
    "\n",
    "\n",
    "@dataclass(frozen=True)\n",
    "class ModelConfig:\n",
    "    Model_name              : str \n",
    "    temperature             : int \n",
    "    api_key                 : Optional[str]"
   ]
  },
  {
   "cell_type": "code",
   "execution_count": 11,
   "metadata": {},
   "outputs": [],
   "source": [
    "import os\n",
    "from dotenv import load_dotenv\n",
    "from News_web_scraping import logger\n",
    "from News_web_scraping.constants import *\n",
    "from News_web_scraping.utils.common import *\n",
    "from News_web_scraping.entity.config_entity import (ModelConfig,)\n",
    "                                                      #UploadFileConfig)\n",
    "\n",
    "\n",
    "\n",
    "class ConfigurationManager:\n",
    "    def __init__(self,\n",
    "                 config_filepath    = CONFIG_FILE_PATH,\n",
    "                 params_filepath    = PARAMS_FILE_PATH):\n",
    "\n",
    "        self.config = read_yaml(config_filepath)\n",
    "        self.params = read_yaml(params_filepath)\n",
    "\n",
    "\n",
    "    def get_model_config(self) -> ModelConfig:\n",
    "        params  = self.params\n",
    "        logger.info(\"Model config initialized\")\n",
    "        load_dotenv()\n",
    "        model_config = ModelConfig(Model_name   = params.MODEL_NAME,\n",
    "                                   temperature  = params.TEMPERATURE,\n",
    "                                   api_key      = os.getenv(\"GROQ_API_KEY\"))\n",
    "\n",
    "        return model_config"
   ]
  },
  {
   "cell_type": "code",
   "execution_count": 14,
   "metadata": {},
   "outputs": [
    {
     "name": "stdout",
     "output_type": "stream",
     "text": [
      "[2024-10-03 15:28:15,254: INFO: common: yaml file: config\\config.yaml loaded successfully]\n",
      "[2024-10-03 15:28:15,257: INFO: common: yaml file: params.yaml loaded successfully]\n",
      "[2024-10-03 15:28:15,257: INFO: 519762338: Model config initialized]\n"
     ]
    }
   ],
   "source": [
    "manager         = ConfigurationManager()\n",
    "model_config    = manager.get_model_config()"
   ]
  },
  {
   "cell_type": "code",
   "execution_count": 15,
   "metadata": {},
   "outputs": [],
   "source": [
    "from News_web_scraping import logger\n",
    "from langchain_groq import ChatGroq\n",
    "from News_web_scraping.entity.config_entity import ModelConfig\n",
    "\n",
    "\n",
    "class ModelSetup:\n",
    "\n",
    "    def __init__(self,config = ModelConfig):\n",
    "        self.config = config\n",
    "\n",
    "    def model_setup(self):\n",
    "        logger.info(\"Model setup initialized\")\n",
    "        llm     = ChatGroq(model        = self.config.Model_name,\n",
    "                           temperature  = self.config.temperature,\n",
    "                           api_key      = self.config.api_key,)\n",
    "        \n",
    "        logger.info(f\"model----{(self.config.Model_name).split('/')[-1]}----created\")\n",
    "        return llm "
   ]
  },
  {
   "cell_type": "code",
   "execution_count": 20,
   "metadata": {},
   "outputs": [
    {
     "name": "stdout",
     "output_type": "stream",
     "text": [
      "[2024-10-03 15:30:54,839: INFO: common: yaml file: config\\config.yaml loaded successfully]\n",
      "[2024-10-03 15:30:54,839: INFO: common: yaml file: params.yaml loaded successfully]\n",
      "[2024-10-03 15:30:54,842: INFO: 519762338: Model config initialized]\n",
      "[2024-10-03 15:30:54,842: INFO: 3680959220: Model setup initialized]\n",
      "[2024-10-03 15:30:55,414: INFO: 3680959220: model----llama3-8b-8192----created]\n"
     ]
    }
   ],
   "source": [
    "manager         = ConfigurationManager()\n",
    "model_config    = manager.get_model_config()\n",
    "llm             = ModelSetup(config=model_config).model_setup()"
   ]
  },
  {
   "cell_type": "code",
   "execution_count": null,
   "metadata": {},
   "outputs": [],
   "source": []
  },
  {
   "cell_type": "code",
   "execution_count": null,
   "metadata": {},
   "outputs": [],
   "source": []
  }
 ],
 "metadata": {
  "kernelspec": {
   "display_name": "llm_env",
   "language": "python",
   "name": "python3"
  },
  "language_info": {
   "codemirror_mode": {
    "name": "ipython",
    "version": 3
   },
   "file_extension": ".py",
   "mimetype": "text/x-python",
   "name": "python",
   "nbconvert_exporter": "python",
   "pygments_lexer": "ipython3",
   "version": "3.9.19"
  }
 },
 "nbformat": 4,
 "nbformat_minor": 2
}
