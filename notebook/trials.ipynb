{
 "cells": [
  {
   "cell_type": "code",
   "execution_count": 1,
   "metadata": {},
   "outputs": [],
   "source": [
    "from bs4 import BeautifulSoup"
   ]
  },
  {
   "cell_type": "code",
   "execution_count": 2,
   "metadata": {},
   "outputs": [],
   "source": [
    "import time\n",
    "import datetime\n",
    "from bs4 import BeautifulSoup\n",
    "import requests"
   ]
  },
  {
   "cell_type": "code",
   "execution_count": 3,
   "metadata": {},
   "outputs": [],
   "source": [
    "#URL       = \"https://www.amazon.in/s?k=phone&crid=OO8DHSJUFZGA&sprefix=phone%2Caps%2C288&ref=nb_sb_ss_pltr-data-refreshed_2_5\"\n",
    "#URL = \"https://www.hindustantimes.com/india-news/cocaine-worth-rs-2-000-crore-seized-in-delhis-biggest-drug-bust-101727861086019.html\"\n",
    "#URL = \"https://www.ndtv.com/world-news/captain-aged-22-israel-says-1st-soldier-killed-in-lebanon-combat-ops-6700889\"\n",
    "#URL = \"https://en.wikipedia.org/wiki/Artificial_intelligence\"\n",
    "#URL = \"https://www.gsmarena.com/detailed_specs_for_samsungs_galaxy_a16_4g_and_5g_emerge-news-64767.php\"\n",
    "URL = \"https://www.arenaev.com/byd_breaks_sales_records_in_september-news-3980.php\"\n",
    "\n",
    "\n",
    "headers   = {\n",
    "      \"User-Agent\"              : \"Mozilla/5.0 (Windows NT 10.0; Win64; x64; rv:130.0) Gecko/20100101 Firefox/130.0\",\n",
    "      \"Accept-Encoding\"         : \"gzip, deflate, br, zstd\",\n",
    "      \"Accept\"                  : \"text/html,application/xhtml+xml,application/xml;q=0.9,image/avif,image/webp,image/png,image/svg+xml,*/*;q=0.8\",\n",
    "      \"DNT\"                     : \"1\",\n",
    "      \"Connection\"              : \"close\",\n",
    "      \"Upgrade-Insecure-Requests\" :\"1\"\n",
    "      }\n",
    "page      = requests.get(URL, headers=headers)\n",
    "\n",
    "\n",
    "\n",
    "soup1 = BeautifulSoup(page.text, \"html.parser\",)\n",
    "soup2 = BeautifulSoup(soup1.prettify(), \"html.parser\")"
   ]
  },
  {
   "cell_type": "code",
   "execution_count": 4,
   "metadata": {},
   "outputs": [
    {
     "name": "stdout",
     "output_type": "stream",
     "text": [
      "Login Max McDee , 02 October 2024  's hot streak continues as the company reported record-breaking sales for September 2024. The company sold a staggering 419,426 NEVs, marking its fourth consecutive month of record sales. This impressive figure represents a 45.91% increase compared to the same period last year and a 12.42% rise from . In September, BYD sold 252,647 PHEVs, achieving a seventh consecutive record high since March 2024. This signifies an 86.17% surge year-on-year and a 13.61% jump compared to August. While still impressive, sales of battery electric vehicles (BEVs) showed more modest growth. BYD sold 164,956 BEVs, a 9.1% increase year-on-year and an 11.1% rise from August. BYD's decision to cease production of internal combustion engine vehicles in March 2022 continues paying off handsomely. The company's strategic focus on NEVs has allowed it to capitalize on the growing global demand for electric and hybrid vehicles. Of the total NEV sales, passenger vehicles accounted for the lion's share, with 417,603 units sold in September. That's a 45.56% increase year-on-year and a 12.61% rise from August. Commercial NEV sales, while significantly lower in volume, also showed steady growth, reaching 1,823 units, a 230.85% increase year-on-year. BYD also has good news about its global expansion. The company sold 33,012 vehicles in overseas markets in September, a 17.74% increase year-on-year. The company is also a major player in the power battery market. In September, BYD's installed base of power and energy storage batteries reached approximately 19.8 GWh, demonstrating a 38% increase year-on-year. As expected, the strong September performance contributed to a record-breaking third quarter. The company sold an impressive 1,134,892 NEVs in total, exceeding the 1 million unit mark for the first time in a single quarter. This signifies a 37.73% increase year-on-year and a 15.02% rise from the second quarter of 2024. BYD's Song family continues to be a top performer, achieving record sales of 89,135 units in September. This popular lineup includes models like the Song L EV, Song L DM-i, Song Pro DM-i, Song Plus EV, and Song Plus DM-i. The Qin family followed closely behind, with 75,785 units sold, further solidifying BYD's strong position in the NEV market. |   © 2022-2024 From the team behind \n"
     ]
    }
   ],
   "source": [
    "for unwanted in soup2([\"script\", \"style\", \"a\"]):\n",
    "    unwanted.extract()  # Remove these tags\n",
    "\n",
    "\n",
    "paragraphs = soup2.find_all('p')\n",
    "\n",
    "text = \"\"\n",
    "for para in paragraphs:\n",
    "    text += para.get_text(separator=' ', strip=True) + \" \"\n",
    "\n",
    "\n",
    "print(text)"
   ]
  },
  {
   "cell_type": "code",
   "execution_count": 5,
   "metadata": {},
   "outputs": [
    {
     "data": {
      "text/plain": [
       "'c:\\\\Users\\\\Asus\\\\vs_code\\\\Internship\\\\News_web_scraping\\\\notebook'"
      ]
     },
     "execution_count": 5,
     "metadata": {},
     "output_type": "execute_result"
    }
   ],
   "source": [
    "%pwd "
   ]
  }
 ],
 "metadata": {
  "kernelspec": {
   "display_name": "llm_env",
   "language": "python",
   "name": "python3"
  },
  "language_info": {
   "codemirror_mode": {
    "name": "ipython",
    "version": 3
   },
   "file_extension": ".py",
   "mimetype": "text/x-python",
   "name": "python",
   "nbconvert_exporter": "python",
   "pygments_lexer": "ipython3",
   "version": "3.9.19"
  }
 },
 "nbformat": 4,
 "nbformat_minor": 2
}
