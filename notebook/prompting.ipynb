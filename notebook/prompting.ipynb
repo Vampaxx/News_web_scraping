{
 "cells": [
  {
   "cell_type": "code",
   "execution_count": 1,
   "metadata": {},
   "outputs": [],
   "source": [
    "import os "
   ]
  },
  {
   "cell_type": "code",
   "execution_count": 2,
   "metadata": {},
   "outputs": [
    {
     "data": {
      "text/plain": [
       "'c:\\\\Users\\\\Asus\\\\vs_code\\\\Internship\\\\News_web_scraping\\\\notebook'"
      ]
     },
     "execution_count": 2,
     "metadata": {},
     "output_type": "execute_result"
    }
   ],
   "source": [
    "%pwd"
   ]
  },
  {
   "cell_type": "code",
   "execution_count": 3,
   "metadata": {},
   "outputs": [],
   "source": [
    "os.chdir(\"../\")"
   ]
  },
  {
   "cell_type": "code",
   "execution_count": 4,
   "metadata": {},
   "outputs": [
    {
     "data": {
      "text/plain": [
       "'c:\\\\Users\\\\Asus\\\\vs_code\\\\Internship\\\\News_web_scraping'"
      ]
     },
     "execution_count": 4,
     "metadata": {},
     "output_type": "execute_result"
    }
   ],
   "source": [
    "%pwd"
   ]
  },
  {
   "cell_type": "code",
   "execution_count": 5,
   "metadata": {},
   "outputs": [],
   "source": [
    "from News_web_scraping import logger \n",
    "from News_web_scraping.components.Model import ModelSetup\n",
    "from News_web_scraping.utils.common import * \n",
    "from News_web_scraping.config.configuration import ConfigurationManager\n",
    "from News_web_scraping.entity.config_entity import ModelConfig\n",
    "\n",
    "\n",
    "from langchain_core.runnables import RunnablePassthrough\n",
    "from langchain_core.prompts import PromptTemplate\n",
    "from langchain_core.output_parsers import JsonOutputParser"
   ]
  },
  {
   "cell_type": "code",
   "execution_count": 6,
   "metadata": {},
   "outputs": [
    {
     "name": "stdout",
     "output_type": "stream",
     "text": [
      "[2024-10-04 15:46:54,685: INFO: common: yaml file: config\\config.yaml loaded successfully]\n",
      "[2024-10-04 15:46:54,689: INFO: common: yaml file: params.yaml loaded successfully]\n",
      "[2024-10-04 15:46:54,689: INFO: common: created directory at: artifacts]\n",
      "[2024-10-04 15:46:54,691: INFO: configuration: Model config initialized]\n"
     ]
    }
   ],
   "source": [
    "manager             = ConfigurationManager()\n",
    "model_config        = manager.get_model_config()"
   ]
  },
  {
   "cell_type": "code",
   "execution_count": 7,
   "metadata": {},
   "outputs": [],
   "source": [
    "class PromptAndChain(ModelSetup):\n",
    "\n",
    "    def __init__(self,model_config: ModelConfig,):\n",
    "        \n",
    "        super().__init__(model_config)\n",
    "        self.llm                        = self.model_setup()\n",
    "        self.parser                     = JsonOutputParser()\n",
    "\n",
    "    def prompt_and_chain(self): \n",
    "\n",
    "        logger.info(f\"Prompting and chain has started\")\n",
    "\n",
    "        json_prompt = \"\"\"\n",
    "You are an expert information extractor. Your task is to extract relevant data from the following text and organize it into a structured JSON format.\n",
    "\n",
    "Instructions:\n",
    "    1. Carefully read the following text.\n",
    "    2. Extract key information and format it into a JSON object.\n",
    "    3. Ensure that the keys in the JSON are relevant to the content. Use meaningful key names based on the context of the text.\n",
    "    4. **Strict formatting rules**:\n",
    "        - The output must be a valid JSON object.\n",
    "        - If a value is a string, enclose it in double quotes.\n",
    "        - If a value is a number, boolean, or another type, do not enclose it in quotes.\n",
    "\n",
    "Text:\n",
    "{document_text}\n",
    "\n",
    "Output:\n",
    "Provide a JSON object containing the extracted relevant information.Ensure that the final output adheres strictly to this format.\n",
    "\"\"\"\n",
    "\n",
    "        example_prompt  = PromptTemplate(\n",
    "            input_variables = [\"document_text\"],\n",
    "            template        = json_prompt)\n",
    "\n",
    "        chain = (\n",
    "            {\n",
    "                \"document_text\" : RunnablePassthrough() \n",
    "            }\n",
    "            | example_prompt \n",
    "            | self.llm\n",
    "            | self.parser\n",
    "        )\n",
    "        return chain \n"
   ]
  },
  {
   "cell_type": "code",
   "execution_count": 8,
   "metadata": {},
   "outputs": [
    {
     "name": "stdout",
     "output_type": "stream",
     "text": [
      "[2024-10-04 15:46:54,720: INFO: common: yaml file: config\\config.yaml loaded successfully]\n",
      "[2024-10-04 15:46:54,722: INFO: common: yaml file: params.yaml loaded successfully]\n",
      "[2024-10-04 15:46:54,722: INFO: common: created directory at: artifacts]\n",
      "[2024-10-04 15:46:54,722: INFO: configuration: Model config initialized]\n",
      "[2024-10-04 15:46:54,724: INFO: Model: Model setup initialized]\n",
      "[2024-10-04 15:46:55,213: INFO: Model: model----llama3-8b-8192----created]\n",
      "[2024-10-04 15:46:55,217: INFO: 1713379584: Prompting and chain has started]\n"
     ]
    }
   ],
   "source": [
    "\n",
    "if __name__ == \"__main__\":\n",
    "    manager             = ConfigurationManager()\n",
    "    model_config        = manager.get_model_config()\n",
    "    prompt_and_chain    = PromptAndChain(model_config=model_config)\n",
    "    chain               = prompt_and_chain.prompt_and_chain()\n",
    "    "
   ]
  },
  {
   "cell_type": "code",
   "execution_count": 10,
   "metadata": {},
   "outputs": [
    {
     "name": "stdout",
     "output_type": "stream",
     "text": [
      "[2024-10-04 16:46:48,054: INFO: _client: HTTP Request: POST https://api.groq.com/openai/v1/chat/completions \"HTTP/1.1 200 OK\"]\n"
     ]
    }
   ],
   "source": [
    "response = chain.invoke(\"hey my name is arjun, and im working as an engineer\")"
   ]
  },
  {
   "cell_type": "code",
   "execution_count": 11,
   "metadata": {},
   "outputs": [
    {
     "data": {
      "text/plain": [
       "'{\"Name\": \"arjun\", \"Occupation\": \"engineer\"}'"
      ]
     },
     "execution_count": 11,
     "metadata": {},
     "output_type": "execute_result"
    }
   ],
   "source": [
    "json.dumps(response)"
   ]
  },
  {
   "cell_type": "code",
   "execution_count": null,
   "metadata": {},
   "outputs": [],
   "source": []
  }
 ],
 "metadata": {
  "kernelspec": {
   "display_name": "llm_env",
   "language": "python",
   "name": "python3"
  },
  "language_info": {
   "codemirror_mode": {
    "name": "ipython",
    "version": 3
   },
   "file_extension": ".py",
   "mimetype": "text/x-python",
   "name": "python",
   "nbconvert_exporter": "python",
   "pygments_lexer": "ipython3",
   "version": "3.9.19"
  }
 },
 "nbformat": 4,
 "nbformat_minor": 2
}
