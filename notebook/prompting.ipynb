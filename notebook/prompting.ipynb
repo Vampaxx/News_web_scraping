{
 "cells": [
  {
   "cell_type": "code",
   "execution_count": 1,
   "metadata": {},
   "outputs": [],
   "source": [
    "import os "
   ]
  },
  {
   "cell_type": "code",
   "execution_count": 2,
   "metadata": {},
   "outputs": [
    {
     "data": {
      "text/plain": [
       "'c:\\\\Users\\\\Asus\\\\vs_code\\\\Internship\\\\News_web_scraping\\\\notebook'"
      ]
     },
     "execution_count": 2,
     "metadata": {},
     "output_type": "execute_result"
    }
   ],
   "source": [
    "%pwd"
   ]
  },
  {
   "cell_type": "code",
   "execution_count": 3,
   "metadata": {},
   "outputs": [],
   "source": [
    "os.chdir(\"../\")"
   ]
  },
  {
   "cell_type": "code",
   "execution_count": 4,
   "metadata": {},
   "outputs": [
    {
     "data": {
      "text/plain": [
       "'c:\\\\Users\\\\Asus\\\\vs_code\\\\Internship\\\\News_web_scraping'"
      ]
     },
     "execution_count": 4,
     "metadata": {},
     "output_type": "execute_result"
    }
   ],
   "source": [
    "%pwd"
   ]
  },
  {
   "cell_type": "code",
   "execution_count": 11,
   "metadata": {},
   "outputs": [],
   "source": [
    "from News_web_scraping import logger \n",
    "from News_web_scraping.components.Model import ModelSetup\n",
    "from News_web_scraping.config.configuration import ConfigurationManager\n",
    "from News_web_scraping.entity.config_entity import ModelConfig\n",
    "\n",
    "from langchain_core.runnables import RunnablePassthrough\n",
    "from langchain_core.prompts import PromptTemplate\n",
    "from langchain_core.output_parsers import JsonOutputParser"
   ]
  },
  {
   "cell_type": "code",
   "execution_count": 9,
   "metadata": {},
   "outputs": [
    {
     "name": "stdout",
     "output_type": "stream",
     "text": [
      "[2024-10-03 16:28:03,359: INFO: common: yaml file: config\\config.yaml loaded successfully]\n",
      "[2024-10-03 16:28:03,361: INFO: common: yaml file: params.yaml loaded successfully]\n",
      "[2024-10-03 16:28:03,361: INFO: configuration: Model config initialized]\n"
     ]
    }
   ],
   "source": [
    "manager             = ConfigurationManager()\n",
    "model_config        = manager.get_model_config()"
   ]
  },
  {
   "cell_type": "code",
   "execution_count": 20,
   "metadata": {},
   "outputs": [
    {
     "name": "stdout",
     "output_type": "stream",
     "text": [
      "[2024-10-03 16:37:01,246: INFO: common: yaml file: config\\config.yaml loaded successfully]\n",
      "[2024-10-03 16:37:01,247: INFO: common: yaml file: params.yaml loaded successfully]\n",
      "[2024-10-03 16:37:01,247: INFO: configuration: Model config initialized]\n",
      "[2024-10-03 16:37:01,247: INFO: Model: Model setup initialized]\n",
      "[2024-10-03 16:37:01,615: INFO: Model: model----llama3-8b-8192----created]\n"
     ]
    }
   ],
   "source": [
    "manager         = ConfigurationManager()\n",
    "model_config    = manager.get_model_config()\n",
    "llm             = ModelSetup(config=model_config).model_setup()"
   ]
  },
  {
   "cell_type": "code",
   "execution_count": 21,
   "metadata": {},
   "outputs": [],
   "source": [
    "json_prompt = \"\"\"\n",
    "You are an expert information extractor. Your task is to extract relevant data from the following text and organize it into a structured JSON format.\n",
    "\n",
    "Instructions:\n",
    "    1. Carefully read the following text.\n",
    "    2. Extract key information and format it into a JSON object.\n",
    "    3. Ensure that the keys in the JSON are relevant to the content (e.g., 'title', 'author', 'date', 'key_points', 'summary', etc.). Use meaningful key names based on the context of the text.\n",
    "\n",
    "Text:\n",
    "{document_text}\n",
    "\n",
    "Output:\n",
    "Provide a JSON object containing the extracted relevant information.\n",
    "\"\"\"\n",
    "\n",
    "example_prompt  = PromptTemplate(\n",
    "    input_variables = [\"document_text\"],\n",
    "    template        = json_prompt)\n",
    "\n",
    "chain = (\n",
    "    {\n",
    "        \"document_text\" : RunnablePassthrough() \n",
    "    }\n",
    "    | example_prompt \n",
    "    | llm\n",
    "    | JsonOutputParser()\n",
    ")"
   ]
  },
  {
   "cell_type": "code",
   "execution_count": 34,
   "metadata": {},
   "outputs": [
    {
     "name": "stdout",
     "output_type": "stream",
     "text": [
      "[2024-10-03 16:42:28,507: INFO: _client: HTTP Request: POST https://api.groq.com/openai/v1/chat/completions \"HTTP/1.1 200 OK\"]\n"
     ]
    },
    {
     "data": {
      "text/plain": [
       "{'name': 'Arjun',\n",
       " 'profession': 'Mechanical Engineer',\n",
       " 'employer': 'BMW',\n",
       " 'salary': '1 lakh per month'}"
      ]
     },
     "execution_count": 34,
     "metadata": {},
     "output_type": "execute_result"
    }
   ],
   "source": [
    "chain.invoke(\"my name is arjun, and mechanical engineer in BMW, and has  a  salary of 1lack per month\")"
   ]
  },
  {
   "cell_type": "code",
   "execution_count": 35,
   "metadata": {},
   "outputs": [
    {
     "data": {
      "text/plain": [
       "\"Login Max McDee , 02 October 2024  's hot streak continues as the company reported record-breaking sales for September 2024. The company sold a staggering 419,426 NEVs, marking its fourth consecutive month of record sales. This impressive figure represents a 45.91% increase compared to the same period last year and a 12.42% rise from . In September, BYD sold 252,647 PHEVs, achieving a seventh consecutive record high since March 2024. This signifies an 86.17% surge year-on-year and a 13.61% jump compared to August. While still impressive, sales of battery electric vehicles (BEVs) showed more modest growth. BYD sold 164,956 BEVs, a 9.1% increase year-on-year and an 11.1% rise from August. BYD's decision to cease production of internal combustion engine vehicles in March 2022 continues paying off handsomely. The company's strategic focus on NEVs has allowed it to capitalize on the growing global demand for electric and hybrid vehicles. Of the total NEV sales, passenger vehicles accounted for the lion's share, with 417,603 units sold in September. That's a 45.56% increase year-on-year and a 12.61% rise from August. Commercial NEV sales, while significantly lower in volume, also showed steady growth, reaching 1,823 units, a 230.85% increase year-on-year. BYD also has good news about its global expansion. The company sold 33,012 vehicles in overseas markets in September, a 17.74% increase year-on-year. The company is also a major player in the power battery market. In September, BYD's installed base of power and energy storage batteries reached approximately 19.8 GWh, demonstrating a 38% increase year-on-year. As expected, the strong September performance contributed to a record-breaking third quarter. The company sold an impressive 1,134,892 NEVs in total, exceeding the 1 million unit mark for the first time in a single quarter. This signifies a 37.73% increase year-on-year and a 15.02% rise from the second quarter of 2024. BYD's Song family continues to be a top performer, achieving record sales of 89,135 units in September. This popular lineup includes models like the Song L EV, Song L DM-i, Song Pro DM-i, Song Plus EV, and Song Plus DM-i. The Qin family followed closely behind, with 75,785 units sold, further solidifying BYD's strong position in the NEV market. |   © 2022-2024 From the team behind \""
      ]
     },
     "execution_count": 35,
     "metadata": {},
     "output_type": "execute_result"
    }
   ],
   "source": [
    "Login Max McDee , 02 October 2024  's hot streak continues as the company reported record-breaking sales for September 2024. The company sold a staggering 419,426 NEVs, marking its fourth consecutive month of record sales. This impressive figure represents a 45.91% increase compared to the same period last year and a 12.42% rise from . In September, BYD sold 252,647 PHEVs, achieving a seventh consecutive record high since March 2024. This signifies an 86.17% surge year-on-year and a 13.61% jump compared to August. While still impressive, sales of battery electric vehicles (BEVs) showed more modest growth. BYD sold 164,956 BEVs, a 9.1% increase year-on-year and an 11.1% rise from August. BYD's decision to cease production of internal combustion engine vehicles in March 2022 continues paying off handsomely. The company's strategic focus on NEVs has allowed it to capitalize on the growing global demand for electric and hybrid vehicles. Of the total NEV sales, passenger vehicles accounted for the lion's share, with 417,603 units sold in September. That's a 45.56% increase year-on-year and a 12.61% rise from August. Commercial NEV sales, while significantly lower in volume, also showed steady growth, reaching 1,823 units, a 230.85% increase year-on-year. BYD also has good news about its global expansion. The company sold 33,012 vehicles in overseas markets in September, a 17.74% increase year-on-year. The company is also a major player in the power battery market. In September, BYD's installed base of power and energy storage batteries reached approximately 19.8 GWh, demonstrating a 38% increase year-on-year. As expected, the strong September performance contributed to a record-breaking third quarter. The company sold an impressive 1,134,892 NEVs in total, exceeding the 1 million unit mark for the first time in a single quarter. This signifies a 37.73% increase year-on-year and a 15.02% rise from the second quarter of 2024. BYD's Song family continues to be a top performer, achieving record sales of 89,135 units in September. This popular lineup includes models like the Song L EV, Song L DM-i, Song Pro DM-i, Song Plus EV, and Song Plus DM-i. The Qin family followed closely behind, with 75,785 units sold, further solidifying BYD's strong position in the NEV market. |   © 2022-2024 From the team behind"
   ]
  },
  {
   "cell_type": "code",
   "execution_count": 36,
   "metadata": {},
   "outputs": [],
   "source": [
    "class PromptAndChain(ModelSetup):\n",
    "\n",
    "    def __init__(self,model_config: ModelConfig,):\n",
    "        \n",
    "        super().__init__(model_config)\n",
    "        self.llm                        = self.model_setup()\n",
    "        self.parser                     = JsonOutputParser\n",
    "\n",
    "    def prompt_and_chain(self): \n",
    "\n",
    "        logger.info(f\"Prompting and chain has started\")\n",
    "\n",
    "        json_prompt = \"\"\"\n",
    "You are an expert information extractor. Your task is to extract relevant data from the following text and organize it into a structured JSON format.\n",
    "\n",
    "Instructions:\n",
    "    1. Carefully read the following text.\n",
    "    2. Extract key information and format it into a JSON object.\n",
    "    3. Ensure that the keys in the JSON are relevant to the content (e.g., 'title', 'author', 'date', 'key_points', 'summary', etc.). Use meaningful key names based on the context of the text.\n",
    "\n",
    "Text:\n",
    "{document_text}\n",
    "\n",
    "Output:\n",
    "Provide a JSON object containing the extracted relevant information.\n",
    "\"\"\"\n",
    "\n",
    "        example_prompt  = PromptTemplate(\n",
    "            input_variables = [\"document_text\"],\n",
    "            template        = json_prompt)\n",
    "\n",
    "        chain = (\n",
    "            {\n",
    "                \"document_text\" : RunnablePassthrough() \n",
    "            }\n",
    "            | example_prompt \n",
    "            | self.llm\n",
    "            | self.parser\n",
    "        )\n",
    "        return chain \n"
   ]
  },
  {
   "cell_type": "code",
   "execution_count": 51,
   "metadata": {},
   "outputs": [
    {
     "name": "stdout",
     "output_type": "stream",
     "text": [
      "[2024-10-03 18:50:09,792: INFO: common: yaml file: config\\config.yaml loaded successfully]\n",
      "[2024-10-03 18:50:09,795: INFO: common: yaml file: params.yaml loaded successfully]\n",
      "[2024-10-03 18:50:09,796: INFO: configuration: Model config initialized]\n",
      "[2024-10-03 18:50:09,798: INFO: Model: Model setup initialized]\n",
      "[2024-10-03 18:50:10,558: INFO: Model: model----llama3-8b-8192----created]\n",
      "[2024-10-03 18:50:10,558: INFO: 2020053794: Prompting and chain has started]\n"
     ]
    }
   ],
   "source": [
    "\n",
    "if __name__ == \"__main__\":\n",
    "    manager             = ConfigurationManager()\n",
    "    model_config        = manager.get_model_config()\n",
    "    prompt_and_chain    = PromptAndChain(model_config=model_config)\n",
    "    chain               = prompt_and_chain.prompt_and_chain()\n",
    "    "
   ]
  },
  {
   "cell_type": "code",
   "execution_count": 53,
   "metadata": {},
   "outputs": [],
   "source": [
    "text = \"\"\"Login Max McDee , 02 October 2024  's hot streak continues as the company \"\"\""
   ]
  },
  {
   "cell_type": "code",
   "execution_count": 54,
   "metadata": {},
   "outputs": [
    {
     "name": "stdout",
     "output_type": "stream",
     "text": [
      "[2024-10-03 18:50:55,008: INFO: _base_client: Retrying request to /openai/v1/chat/completions in 0.889341 seconds]\n",
      "[2024-10-03 18:50:55,907: INFO: _base_client: Retrying request to /openai/v1/chat/completions in 1.620082 seconds]\n",
      "[2024-10-03 18:50:59,249: INFO: _client: HTTP Request: POST https://api.groq.com/openai/v1/chat/completions \"HTTP/1.1 200 OK\"]\n"
     ]
    },
    {
     "ename": "TypeError",
     "evalue": "__init__() takes 1 positional argument but 2 were given",
     "output_type": "error",
     "traceback": [
      "\u001b[1;31m---------------------------------------------------------------------------\u001b[0m",
      "\u001b[1;31mTypeError\u001b[0m                                 Traceback (most recent call last)",
      "Cell \u001b[1;32mIn[54], line 1\u001b[0m\n\u001b[1;32m----> 1\u001b[0m \u001b[43mchain\u001b[49m\u001b[38;5;241;43m.\u001b[39;49m\u001b[43minvoke\u001b[49m\u001b[43m(\u001b[49m\u001b[43mtext\u001b[49m\u001b[43m)\u001b[49m\n",
      "File \u001b[1;32mc:\\Users\\Asus\\anaconda3\\envs\\llm_env\\lib\\site-packages\\langchain_core\\runnables\\base.py:2878\u001b[0m, in \u001b[0;36mRunnableSequence.invoke\u001b[1;34m(self, input, config, **kwargs)\u001b[0m\n\u001b[0;32m   2876\u001b[0m             \u001b[38;5;28minput\u001b[39m \u001b[38;5;241m=\u001b[39m context\u001b[38;5;241m.\u001b[39mrun(step\u001b[38;5;241m.\u001b[39minvoke, \u001b[38;5;28minput\u001b[39m, config, \u001b[38;5;241m*\u001b[39m\u001b[38;5;241m*\u001b[39mkwargs)\n\u001b[0;32m   2877\u001b[0m         \u001b[38;5;28;01melse\u001b[39;00m:\n\u001b[1;32m-> 2878\u001b[0m             \u001b[38;5;28minput\u001b[39m \u001b[38;5;241m=\u001b[39m \u001b[43mcontext\u001b[49m\u001b[38;5;241;43m.\u001b[39;49m\u001b[43mrun\u001b[49m\u001b[43m(\u001b[49m\u001b[43mstep\u001b[49m\u001b[38;5;241;43m.\u001b[39;49m\u001b[43minvoke\u001b[49m\u001b[43m,\u001b[49m\u001b[43m \u001b[49m\u001b[38;5;28;43minput\u001b[39;49m\u001b[43m,\u001b[49m\u001b[43m \u001b[49m\u001b[43mconfig\u001b[49m\u001b[43m)\u001b[49m\n\u001b[0;32m   2879\u001b[0m \u001b[38;5;66;03m# finish the root run\u001b[39;00m\n\u001b[0;32m   2880\u001b[0m \u001b[38;5;28;01mexcept\u001b[39;00m \u001b[38;5;167;01mBaseException\u001b[39;00m \u001b[38;5;28;01mas\u001b[39;00m e:\n",
      "File \u001b[1;32mc:\\Users\\Asus\\anaconda3\\envs\\llm_env\\lib\\site-packages\\langchain_core\\runnables\\base.py:4474\u001b[0m, in \u001b[0;36mRunnableLambda.invoke\u001b[1;34m(self, input, config, **kwargs)\u001b[0m\n\u001b[0;32m   4460\u001b[0m \u001b[38;5;250m\u001b[39m\u001b[38;5;124;03m\"\"\"Invoke this Runnable synchronously.\u001b[39;00m\n\u001b[0;32m   4461\u001b[0m \n\u001b[0;32m   4462\u001b[0m \u001b[38;5;124;03mArgs:\u001b[39;00m\n\u001b[1;32m   (...)\u001b[0m\n\u001b[0;32m   4471\u001b[0m \u001b[38;5;124;03m    TypeError: If the Runnable is a coroutine function.\u001b[39;00m\n\u001b[0;32m   4472\u001b[0m \u001b[38;5;124;03m\"\"\"\u001b[39;00m\n\u001b[0;32m   4473\u001b[0m \u001b[38;5;28;01mif\u001b[39;00m \u001b[38;5;28mhasattr\u001b[39m(\u001b[38;5;28mself\u001b[39m, \u001b[38;5;124m\"\u001b[39m\u001b[38;5;124mfunc\u001b[39m\u001b[38;5;124m\"\u001b[39m):\n\u001b[1;32m-> 4474\u001b[0m     \u001b[38;5;28;01mreturn\u001b[39;00m \u001b[38;5;28mself\u001b[39m\u001b[38;5;241m.\u001b[39m_call_with_config(\n\u001b[0;32m   4475\u001b[0m         \u001b[38;5;28mself\u001b[39m\u001b[38;5;241m.\u001b[39m_invoke,\n\u001b[0;32m   4476\u001b[0m         \u001b[38;5;28minput\u001b[39m,\n\u001b[0;32m   4477\u001b[0m         \u001b[38;5;28mself\u001b[39m\u001b[38;5;241m.\u001b[39m_config(config, \u001b[38;5;28mself\u001b[39m\u001b[38;5;241m.\u001b[39mfunc),\n\u001b[0;32m   4478\u001b[0m         \u001b[38;5;241m*\u001b[39m\u001b[38;5;241m*\u001b[39mkwargs,\n\u001b[0;32m   4479\u001b[0m     )\n\u001b[0;32m   4480\u001b[0m \u001b[38;5;28;01melse\u001b[39;00m:\n\u001b[0;32m   4481\u001b[0m     \u001b[38;5;28;01mraise\u001b[39;00m \u001b[38;5;167;01mTypeError\u001b[39;00m(\n\u001b[0;32m   4482\u001b[0m         \u001b[38;5;124m\"\u001b[39m\u001b[38;5;124mCannot invoke a coroutine function synchronously.\u001b[39m\u001b[38;5;124m\"\u001b[39m\n\u001b[0;32m   4483\u001b[0m         \u001b[38;5;124m\"\u001b[39m\u001b[38;5;124mUse `ainvoke` instead.\u001b[39m\u001b[38;5;124m\"\u001b[39m\n\u001b[0;32m   4484\u001b[0m     )\n",
      "File \u001b[1;32mc:\\Users\\Asus\\anaconda3\\envs\\llm_env\\lib\\site-packages\\langchain_core\\runnables\\base.py:1785\u001b[0m, in \u001b[0;36mRunnable._call_with_config\u001b[1;34m(self, func, input, config, run_type, **kwargs)\u001b[0m\n\u001b[0;32m   1781\u001b[0m     context \u001b[38;5;241m=\u001b[39m copy_context()\n\u001b[0;32m   1782\u001b[0m     context\u001b[38;5;241m.\u001b[39mrun(_set_config_context, child_config)\n\u001b[0;32m   1783\u001b[0m     output \u001b[38;5;241m=\u001b[39m cast(\n\u001b[0;32m   1784\u001b[0m         Output,\n\u001b[1;32m-> 1785\u001b[0m         context\u001b[38;5;241m.\u001b[39mrun(\n\u001b[0;32m   1786\u001b[0m             call_func_with_variable_args,  \u001b[38;5;66;03m# type: ignore[arg-type]\u001b[39;00m\n\u001b[0;32m   1787\u001b[0m             func,  \u001b[38;5;66;03m# type: ignore[arg-type]\u001b[39;00m\n\u001b[0;32m   1788\u001b[0m             \u001b[38;5;28minput\u001b[39m,  \u001b[38;5;66;03m# type: ignore[arg-type]\u001b[39;00m\n\u001b[0;32m   1789\u001b[0m             config,\n\u001b[0;32m   1790\u001b[0m             run_manager,\n\u001b[0;32m   1791\u001b[0m             \u001b[38;5;241m*\u001b[39m\u001b[38;5;241m*\u001b[39mkwargs,\n\u001b[0;32m   1792\u001b[0m         ),\n\u001b[0;32m   1793\u001b[0m     )\n\u001b[0;32m   1794\u001b[0m \u001b[38;5;28;01mexcept\u001b[39;00m \u001b[38;5;167;01mBaseException\u001b[39;00m \u001b[38;5;28;01mas\u001b[39;00m e:\n\u001b[0;32m   1795\u001b[0m     run_manager\u001b[38;5;241m.\u001b[39mon_chain_error(e)\n",
      "File \u001b[1;32mc:\\Users\\Asus\\anaconda3\\envs\\llm_env\\lib\\site-packages\\langchain_core\\runnables\\config.py:398\u001b[0m, in \u001b[0;36mcall_func_with_variable_args\u001b[1;34m(func, input, config, run_manager, **kwargs)\u001b[0m\n\u001b[0;32m    396\u001b[0m \u001b[38;5;28;01mif\u001b[39;00m run_manager \u001b[38;5;129;01mis\u001b[39;00m \u001b[38;5;129;01mnot\u001b[39;00m \u001b[38;5;28;01mNone\u001b[39;00m \u001b[38;5;129;01mand\u001b[39;00m accepts_run_manager(func):\n\u001b[0;32m    397\u001b[0m     kwargs[\u001b[38;5;124m\"\u001b[39m\u001b[38;5;124mrun_manager\u001b[39m\u001b[38;5;124m\"\u001b[39m] \u001b[38;5;241m=\u001b[39m run_manager\n\u001b[1;32m--> 398\u001b[0m \u001b[38;5;28;01mreturn\u001b[39;00m func(\u001b[38;5;28minput\u001b[39m, \u001b[38;5;241m*\u001b[39m\u001b[38;5;241m*\u001b[39mkwargs)\n",
      "File \u001b[1;32mc:\\Users\\Asus\\anaconda3\\envs\\llm_env\\lib\\site-packages\\langchain_core\\runnables\\base.py:4330\u001b[0m, in \u001b[0;36mRunnableLambda._invoke\u001b[1;34m(self, input, run_manager, config, **kwargs)\u001b[0m\n\u001b[0;32m   4328\u001b[0m                 output \u001b[38;5;241m=\u001b[39m chunk\n\u001b[0;32m   4329\u001b[0m \u001b[38;5;28;01melse\u001b[39;00m:\n\u001b[1;32m-> 4330\u001b[0m     output \u001b[38;5;241m=\u001b[39m call_func_with_variable_args(\n\u001b[0;32m   4331\u001b[0m         \u001b[38;5;28mself\u001b[39m\u001b[38;5;241m.\u001b[39mfunc, \u001b[38;5;28minput\u001b[39m, config, run_manager, \u001b[38;5;241m*\u001b[39m\u001b[38;5;241m*\u001b[39mkwargs\n\u001b[0;32m   4332\u001b[0m     )\n\u001b[0;32m   4333\u001b[0m \u001b[38;5;66;03m# If the output is a Runnable, invoke it\u001b[39;00m\n\u001b[0;32m   4334\u001b[0m \u001b[38;5;28;01mif\u001b[39;00m \u001b[38;5;28misinstance\u001b[39m(output, Runnable):\n",
      "File \u001b[1;32mc:\\Users\\Asus\\anaconda3\\envs\\llm_env\\lib\\site-packages\\langchain_core\\runnables\\config.py:398\u001b[0m, in \u001b[0;36mcall_func_with_variable_args\u001b[1;34m(func, input, config, run_manager, **kwargs)\u001b[0m\n\u001b[0;32m    396\u001b[0m \u001b[38;5;28;01mif\u001b[39;00m run_manager \u001b[38;5;129;01mis\u001b[39;00m \u001b[38;5;129;01mnot\u001b[39;00m \u001b[38;5;28;01mNone\u001b[39;00m \u001b[38;5;129;01mand\u001b[39;00m accepts_run_manager(func):\n\u001b[0;32m    397\u001b[0m     kwargs[\u001b[38;5;124m\"\u001b[39m\u001b[38;5;124mrun_manager\u001b[39m\u001b[38;5;124m\"\u001b[39m] \u001b[38;5;241m=\u001b[39m run_manager\n\u001b[1;32m--> 398\u001b[0m \u001b[38;5;28;01mreturn\u001b[39;00m func(\u001b[38;5;28minput\u001b[39m, \u001b[38;5;241m*\u001b[39m\u001b[38;5;241m*\u001b[39mkwargs)\n",
      "File \u001b[1;32mc:\\Users\\Asus\\anaconda3\\envs\\llm_env\\lib\\site-packages\\langchain_core\\load\\serializable.py:113\u001b[0m, in \u001b[0;36mSerializable.__init__\u001b[1;34m(self, *args, **kwargs)\u001b[0m\n\u001b[0;32m    111\u001b[0m \u001b[38;5;28;01mdef\u001b[39;00m \u001b[38;5;21m__init__\u001b[39m(\u001b[38;5;28mself\u001b[39m, \u001b[38;5;241m*\u001b[39margs: Any, \u001b[38;5;241m*\u001b[39m\u001b[38;5;241m*\u001b[39mkwargs: Any) \u001b[38;5;241m-\u001b[39m\u001b[38;5;241m>\u001b[39m \u001b[38;5;28;01mNone\u001b[39;00m:\n\u001b[0;32m    112\u001b[0m \u001b[38;5;250m    \u001b[39m\u001b[38;5;124;03m\"\"\"\"\"\"\u001b[39;00m\n\u001b[1;32m--> 113\u001b[0m     \u001b[38;5;28msuper\u001b[39m()\u001b[38;5;241m.\u001b[39m\u001b[38;5;21m__init__\u001b[39m(\u001b[38;5;241m*\u001b[39margs, \u001b[38;5;241m*\u001b[39m\u001b[38;5;241m*\u001b[39mkwargs)\n",
      "\u001b[1;31mTypeError\u001b[0m: __init__() takes 1 positional argument but 2 were given"
     ]
    }
   ],
   "source": [
    "chain.invoke(text)"
   ]
  },
  {
   "cell_type": "code",
   "execution_count": null,
   "metadata": {},
   "outputs": [],
   "source": []
  }
 ],
 "metadata": {
  "kernelspec": {
   "display_name": "llm_env",
   "language": "python",
   "name": "python3"
  },
  "language_info": {
   "codemirror_mode": {
    "name": "ipython",
    "version": 3
   },
   "file_extension": ".py",
   "mimetype": "text/x-python",
   "name": "python",
   "nbconvert_exporter": "python",
   "pygments_lexer": "ipython3",
   "version": "3.9.19"
  }
 },
 "nbformat": 4,
 "nbformat_minor": 2
}
